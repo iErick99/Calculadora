{
 "cells": [
  {
   "cell_type": "markdown",
   "metadata": {},
   "source": [
    "![title](http://radiografia.conare.ac.cr/static/images/logos/una.png)\n",
    "\n",
    "<h1>\n",
    "<p><center>Universidad Nacional</center></p>\n",
    "<p><center>Escuela de Informática</center></p>\n",
    "<p><center>ESTRUCTURAS DE DATOS</center></p>\n",
    "<p><center>Proyecto - Calculadora</center></p>\n",
    "</h1>\n",
    "\n",
    "<h2>\n",
    "<p><center>Profesor: Jose Pablo Calvo</center></p>\n",
    "<p><center>Grupo 3:00 p.m</center></p>\n",
    "</h2>\n",
    "\n",
    "<h3>\n",
    "<p><center>Integrantes:</center></p>\n",
    "<p><center>117460708 Gonzalo González Garro</center></p>\n",
    "<p><center>117550063 Erick Vargas Arias</center></p>\n",
    "</h3>\n",
    "\n",
    "<h2>\n",
    "<p><center>Campus Benjamín Nuñez</center></p>\n",
    "<p><center>2018</center></p>\n",
    "</h2>"
   ]
  },
  {
   "cell_type": "markdown",
   "metadata": {},
   "source": [
    "<h2>\n",
    "<p>Introduccion</p>\n",
    "</h2>\n",
    "\n",
    "En este documento se va a dar un breve explicacion pero a fondo sobre la funcionalidad de los algoritmos que componen al programa, ademas de especificar algunas de las instrucciones y consideraciones a seguir para lograr que el programa cumpla con el objetivo adecuadamente. "
   ]
  },
  {
   "attachments": {
    "%5E26E5F6150419BD69DD68E12E90F19A1348A2CF00F9AA44848B%5Epimgpsh_mobile_save_distr.jpg": {
     "image/jpeg": "[encoded data removed]"
    }
   },
   "cell_type": "markdown",
   "metadata": {},
   "source": [
    "<h2><p>Utilización<p></h2>\n",
    "\n",
    "Esta calculadora usa una implementación gráfica con las librerías de SFML.\n",
    "Si se desea realizar una ejecución correcta, desde el IDE Visual Studio 2017, del programa se deben realizar los siguientes pasos:\n",
    "\n",
    "-Seleccionar el tipo de debug a tipo x86, como lo muestra la imagen\n",
    "\n",
    "\n",
    "![%5E26E5F6150419BD69DD68E12E90F19A1348A2CF00F9AA44848B%5Epimgpsh_mobile_save_distr.jpg](attachment:%5E26E5F6150419BD69DD68E12E90F19A1348A2CF00F9AA44848B%5Epimgpsh_mobile_save_distr.jpg)"
   ]
  },
  {
   "cell_type": "code",
   "execution_count": null,
   "metadata": {},
   "outputs": [],
   "source": [
    "void Calculadora::normalizarExpresion()"
   ]
  },
  {
   "cell_type": "markdown",
   "metadata": {},
   "source": [
    "Este metodo es escencial para evitar que el usuario ingrese expresiones erroneas al capturar el flujo de entrada\n",
    "\n",
    "Basicamente chequea el caracter anterior al ultimo que el usuario ingresa (***expresionInfija[i - 1]***)\n",
    "\n",
    "Una de las correcciones que realiza es la de eliminar la **secuencia de dos operadores seguidos** ya que, por ejemplo, lo siguiente no tendria sentido:\n",
    "\n",
    "$A*+B$\n",
    "\n",
    "El metodo no dejaria que el usuario digite el $+$ antes del $*$"
   ]
  },
  {
   "cell_type": "code",
   "execution_count": null,
   "metadata": {},
   "outputs": [],
   "source": [
    "case '+':\n",
    "    if (!isdigit(expresionInfija[ultimoIndice - 1]) && expresionInfija[ultimoIndice - 1] != ')')\n",
    "        expresionInfija.pop_back();"
   ]
  },
  {
   "cell_type": "markdown",
   "metadata": {},
   "source": [
    "Otra correcion se refleja durante la siguiente situacion:\n",
    "\n",
    "$A*$\n",
    "\n",
    "...si se quiere ingresar un numero/expresion con signo **negativo**, el usuario digita el $-$ y el algoritmo inserta un $($ para dejarlo en claro:\n",
    "\n",
    "$A*-($"
   ]
  },
  {
   "cell_type": "code",
   "execution_count": null,
   "metadata": {},
   "outputs": [],
   "source": [
    "case '-':\n",
    "    if (!isdigit(expresionInfija[ultimoIndice - 1]) && expresionInfija[ultimoIndice - 1] != ')')\n",
    "        expresionInfija.push_back('(');"
   ]
  },
  {
   "cell_type": "markdown",
   "metadata": {},
   "source": [
    "<span style=\"color:red\">**NOTA IMPORTANTE: Si se quieren ingresar numeros/expresiones con signo negativo, basta con digitar el simbolo de $-$. No hace falta digitar el parentesis, ya que la calculadora lo hara automaticamente como se refleja en el caso anterior**</span>"
   ]
  },
  {
   "cell_type": "code",
   "execution_count": null,
   "metadata": {},
   "outputs": [],
   "source": [
    "void Calculadora::validarExpresion()"
   ]
  },
  {
   "cell_type": "markdown",
   "metadata": {},
   "source": [
    "Apesar de antes haberla normalizado y de ser poco probable, la expresion puede aun contener alguno de los siguientes dos errores:\n",
    "\n",
    "Primero se definen dos variables, entre ellas una **pila**. Estas se van a utilizar para alcanzar el objetivo siguiente"
   ]
  },
  {
   "cell_type": "code",
   "execution_count": null,
   "metadata": {},
   "outputs": [],
   "source": [
    "Pila<char> pilaDeParentesis;\n",
    "int indicadorDeElementos = 0; // Si es mayor o igual a 1, la expresion es valida"
   ]
  },
  {
   "cell_type": "markdown",
   "metadata": {},
   "source": [
    "- Los **parentesis estan mal anidados**, como se refleja en la siguiente expresion:\n",
    "\n",
    "    $A+((B*C)+D$"
   ]
  },
  {
   "cell_type": "code",
   "execution_count": null,
   "metadata": {},
   "outputs": [],
   "source": [
    "case '(':\n",
    "    pilaDeParentesis.push('(');\n",
    "        break;\n",
    "\n",
    "case ')':\n",
    "    if (pilaDeParentesis.estaVacia())\n",
    "            throw std::string(\"Los parentesis no estan anidados correctamente\");\n",
    "\n",
    "    pilaDeParentesis.pop();\n",
    "    break;"
   ]
  },
  {
   "cell_type": "markdown",
   "metadata": {},
   "source": [
    "- Hay una **cantidad de operadores mayor o igual a la de operandos**, como se refleja en la siguiente expresion:\n",
    "\n",
    "    $A+B+$"
   ]
  },
  {
   "cell_type": "code",
   "execution_count": null,
   "metadata": {},
   "outputs": [],
   "source": [
    "case '+': case '*': case '/': case '^':\n",
    "    indicadorDeElementos--;\n",
    "        break;\n",
    "\n",
    "default: // Si es numero\n",
    "    std::string numero;\n",
    "    int contadorDeDigitos = 0;\n",
    "\n",
    "    do\n",
    "        contadorDeDigitos++;\n",
    "    while (isdigit(expresionInfija[i + contadorDeDigitos]));\n",
    "\n",
    "    indicadorDeElementos++;\n",
    "\n",
    "    i += contadorDeDigitos - 1;\n",
    "    break;"
   ]
  },
  {
   "cell_type": "code",
   "execution_count": null,
   "metadata": {},
   "outputs": [],
   "source": [
    "if (!pilaDeParentesis.estaVacia())\n",
    "    throw std::string(\"Parentesis mal anidados\");\n",
    "\n",
    "if (indicadorDeElementos < 1)\n",
    "    throw std::string(\"Expresion invalida\");"
   ]
  },
  {
   "cell_type": "markdown",
   "metadata": {},
   "source": [
    "En ambos casos, se lanza una excepcion, la cual **evita** que se siga realizando el calculo. Dicha excepcion contiene un **mensaje**, el cual se muestra en la interfaz, con el fin de informar al usuario"
   ]
  },
  {
   "cell_type": "code",
   "execution_count": null,
   "metadata": {},
   "outputs": [],
   "source": [
    "void Calculadora::crearNotacionPostfija()"
   ]
  },
  {
   "cell_type": "markdown",
   "metadata": {},
   "source": [
    "Una vez se normaliza y verifica la validez de la expresion infija ingresada por el usuario, se procede a crear la notacion **postfija** a partir de esta"
   ]
  },
  {
   "cell_type": "code",
   "execution_count": null,
   "metadata": {},
   "outputs": [],
   "source": [
    "for (int i = 0; i < expresionInfija.size(); i++) // Se reccorre por cada caracter de la expresion infija"
   ]
  },
  {
   "cell_type": "markdown",
   "metadata": {},
   "source": [
    "El algoritmo es el mismo al visto en clase, con un cambio para poder detectar numeros/expresiones con **signo negativo**, el cual verificara adicionalmente si hay un $($ despues de haber detectado un $-$, lo cual significaria que el numero/expresion siendo evaluado tiene **signo negativo**\n",
    "\n",
    "<span style=\"color:red\">**NOTA IMPORTANTE: Reiteramos que los numeros/expresiones con signo negativo siempre van encerradas en parentesis. Estos parentesis los agrega la calculadora de forma automatica mientras se va escribiendo la expresion, gracias al metodo ** ***normalizar()***</span>"
   ]
  },
  {
   "cell_type": "code",
   "execution_count": null,
   "metadata": {},
   "outputs": [],
   "source": [
    "case '-': //Se chequea si el numero/expresion ha evaluar tiene signo negativo\n",
    "    if (i == 0 || (!isdigit(expresionInfija[i - 1]) && expresionInfija[i - 1] != ')')) {\n",
    "        expresionPostFijaTemporal << \"-(\";\n",
    "        pilaDeOperadores.push(\"-(\");\n",
    "\n",
    "        continue;\n",
    "        }"
   ]
  },
  {
   "cell_type": "markdown",
   "metadata": {},
   "source": [
    "Una vez se evalua un $)$, se va vaciando la pila hasta encontrar un $($. Si hubiese un $-($ significa que la expresion es **negativa**, por lo que se encerrara entre **parentesis** y con un $-$ antes de ingresarla en la expresion **postfija**. Asi:\n",
    "\n",
    "$A+-(B)$\n",
    "\n",
    "...seria en notacion **postfija**:\n",
    "\n",
    "$A -(B)+$"
   ]
  },
  {
   "cell_type": "code",
   "execution_count": null,
   "metadata": {},
   "outputs": [],
   "source": [
    "long long Calculadora::realizarCalculo()"
   ]
  },
  {
   "cell_type": "markdown",
   "metadata": {},
   "source": [
    "Igual que en la anterior funcion explicada, se utilizo el mismo metodo explicado en clase para la elaboracion de este ultimo algoritmo pero, de nuevo, con un ligero cambio que, tambien, nos ayuda a manejar los numeros/expresiones con **signo negativo**\n",
    "\n",
    "Basicamente, se chequea si hay algun parentesis de apertura ($($), lo cual significaria que hay un numero **negativo** siendo evaluado. En dicho caso, se hace un **push** a la pila de un **-1**"
   ]
  },
  {
   "cell_type": "code",
   "execution_count": null,
   "metadata": {},
   "outputs": [],
   "source": [
    "case '(':\n",
    "    pila.push(-1);"
   ]
  },
  {
   "cell_type": "markdown",
   "metadata": {},
   "source": [
    "Asi, una vez encontrado un parentesis de cerrado ($)$), significaria que el numero/expresion **negativo** termino de ser evaluado, por lo que se hace un **push** a la pila con los **\"dos topes\"** de esta, siendo uno de ellos el **-1** ingresado anteriormente. Con esto, el numero/expresion se inserta con **signo negativo** a la pila"
   ]
  },
  {
   "cell_type": "code",
   "execution_count": null,
   "metadata": {},
   "outputs": [],
   "source": [
    "case ')':\n",
    "    pila.push(pila.pop() * pila.pop()); // El tope se volvera negativo, pues se multiplicara por el -1 insertado anteriormente"
   ]
  }
 ],
 "metadata": {
  "kernelspec": {
   "display_name": "C++11",
   "language": "C++11",
   "name": "xeus-cling-cpp11"
  },
  "language_info": {
   "codemirror_mode": "text/x-c++src",
   "file_extension": ".cpp",
   "mimetype": "text/x-c++src",
   "name": "c++",
   "version": "-std=c++11"
  }
 },
 "nbformat": 4,
 "nbformat_minor": 2
}
